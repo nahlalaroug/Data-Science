{
  "nbformat": 4,
  "nbformat_minor": 0,
  "metadata": {
    "colab": {
      "name": "CNN3D.ipynb",
      "provenance": [],
      "collapsed_sections": []
    },
    "kernelspec": {
      "display_name": "Python 3",
      "name": "python3"
    },
    "accelerator": "GPU"
  },
  "cells": [
    {
      "cell_type": "markdown",
      "metadata": {
        "id": "_pJr2QX16y0C"
      },
      "source": [
        "# **Préparer les données**"
      ]
    },
    {
      "cell_type": "markdown",
      "metadata": {
        "id": "vI65qFkLjyEY"
      },
      "source": [
        "### **Monter le dossier dans Drive**"
      ]
    },
    {
      "cell_type": "code",
      "metadata": {
        "id": "DVb5j_uZDvRs",
        "colab": {
          "base_uri": "https://localhost:8080/"
        },
        "outputId": "2ab2955e-af78-4860-e5ef-168015f93f6f"
      },
      "source": [
        "from google.colab import drive\n",
        "drive.mount('/content/drive')"
      ],
      "execution_count": null,
      "outputs": [
        {
          "output_type": "stream",
          "text": [
            "Drive already mounted at /content/drive; to attempt to forcibly remount, call drive.mount(\"/content/drive\", force_remount=True).\n"
          ],
          "name": "stdout"
        }
      ]
    },
    {
      "cell_type": "code",
      "metadata": {
        "id": "9DcknGEsEkrE"
      },
      "source": [
        "import os\n",
        "os.chdir('/content/drive/My Drive/Colab Notebooks')"
      ],
      "execution_count": null,
      "outputs": []
    },
    {
      "cell_type": "markdown",
      "metadata": {
        "id": "uEIWGiCq_s3g"
      },
      "source": [
        "### **Importation de quelques librairies**"
      ]
    },
    {
      "cell_type": "code",
      "metadata": {
        "id": "0HzSSHr5ooul"
      },
      "source": [
        "import numpy as np\n",
        "import tifffile\n",
        "import glob\n",
        "from pathlib import Path\n",
        "import pandas as pd"
      ],
      "execution_count": null,
      "outputs": []
    },
    {
      "cell_type": "markdown",
      "metadata": {
        "id": "wVrWVyvfkBDD"
      },
      "source": [
        "### **Lecture de la série temporelle d'images et Normalisation par bande sur la série temporelle entre 0 et 1** "
      ]
    },
    {
      "cell_type": "markdown",
      "metadata": {
        "id": "95CB2_IllQFu"
      },
      "source": [
        "#### **Lecture des images et création des séries temporelles de bandes**"
      ]
    },
    {
      "cell_type": "code",
      "metadata": {
        "id": "Ut67k4u3Vezu",
        "colab": {
          "base_uri": "https://localhost:8080/"
        },
        "outputId": "fb2b9d80-d272-4c40-9a44-a9185a6c84c2"
      },
      "source": [
        "# Récupérer la liste des images\n",
        "lst_img = glob.glob ('Images/*.tif')\n",
        "lst_img.sort() # ordonner par date si ce n'est pas le cas\n",
        "lst_img"
      ],
      "execution_count": null,
      "outputs": [
        {
          "output_type": "execute_result",
          "data": {
            "text/plain": [
              "['Images/20160322_S2A.tif',\n",
              " 'Images/20160710_S2A.tif',\n",
              " 'Images/20160730_S2A.tif',\n",
              " 'Images/20160928_S2A.tif',\n",
              " 'Images/20161018_S2A.tif',\n",
              " 'Images/20161127_S2A.tif',\n",
              " 'Images/20161217_S2A.tif',\n",
              " 'Images/20161227_S2A.tif']"
            ]
          },
          "metadata": {
            "tags": []
          },
          "execution_count": 7
        }
      ]
    },
    {
      "cell_type": "code",
      "metadata": {
        "id": "GSpMjDMNa-Bg",
        "colab": {
          "base_uri": "https://localhost:8080/"
        },
        "outputId": "badbdd27-a2be-40c3-de9e-db16cb5b746f"
      },
      "source": [
        "# Lecture de la bande du rouge (B1) pour toute la série temporelle\n",
        "red_ts = []\n",
        "for img in lst_img:\n",
        "  red_ts.append( tifffile.imread(img)[:,:,0]) # Rouge\n",
        "red_ts = np.dstack(red_ts)\n",
        "red_ts.shape"
      ],
      "execution_count": null,
      "outputs": [
        {
          "output_type": "execute_result",
          "data": {
            "text/plain": [
              "(5412, 5592, 8)"
            ]
          },
          "metadata": {
            "tags": []
          },
          "execution_count": 8
        }
      ]
    },
    {
      "cell_type": "code",
      "metadata": {
        "id": "X97WsP3kcTL1",
        "colab": {
          "base_uri": "https://localhost:8080/"
        },
        "outputId": "40474c95-8412-44a0-b8d3-d50e0674fa26"
      },
      "source": [
        "# Lecture de la bande du vert (B2) pour toute la série temporelle\n",
        "green_ts = []\n",
        "for img in lst_img:\n",
        "  green_ts.append( tifffile.imread(img)[:,:,1]) # Vert\n",
        "green_ts = np.dstack(green_ts)\n",
        "green_ts.shape"
      ],
      "execution_count": null,
      "outputs": [
        {
          "output_type": "execute_result",
          "data": {
            "text/plain": [
              "(5412, 5592, 8)"
            ]
          },
          "metadata": {
            "tags": []
          },
          "execution_count": 9
        }
      ]
    },
    {
      "cell_type": "code",
      "metadata": {
        "id": "t1GBdVCGcbcK",
        "colab": {
          "base_uri": "https://localhost:8080/"
        },
        "outputId": "f69ba807-133a-48f5-b41e-60837782c511"
      },
      "source": [
        "# Lecture de la bande du bleu (B3) pour toute la série temporelle\n",
        "blue_ts = []\n",
        "for img in lst_img:\n",
        "  blue_ts.append( tifffile.imread(img)[:,:,2]) # Bleu\n",
        "blue_ts = np.dstack(blue_ts)\n",
        "blue_ts.shape"
      ],
      "execution_count": null,
      "outputs": [
        {
          "output_type": "execute_result",
          "data": {
            "text/plain": [
              "(5412, 5592, 8)"
            ]
          },
          "metadata": {
            "tags": []
          },
          "execution_count": 10
        }
      ]
    },
    {
      "cell_type": "code",
      "metadata": {
        "id": "fDd4BjV-cbz8",
        "colab": {
          "base_uri": "https://localhost:8080/"
        },
        "outputId": "4a8be623-eb1c-4438-b628-9bab45072699"
      },
      "source": [
        "# Lecture de la bande du proche infrarouge (B4) pour toute la série temporelle\n",
        "nir_ts = []\n",
        "for img in lst_img:\n",
        "  nir_ts.append( tifffile.imread(img)[:,:,3]) # Proche infra rouge\n",
        "nir_ts = np.dstack(nir_ts)\n",
        "nir_ts.shape"
      ],
      "execution_count": null,
      "outputs": [
        {
          "output_type": "execute_result",
          "data": {
            "text/plain": [
              "(5412, 5592, 8)"
            ]
          },
          "metadata": {
            "tags": []
          },
          "execution_count": 11
        }
      ]
    },
    {
      "cell_type": "code",
      "metadata": {
        "id": "bJVBYJxuuJDA",
        "colab": {
          "base_uri": "https://localhost:8080/"
        },
        "outputId": "73dc22b6-0f9d-4465-9115-ef217e6ee402"
      },
      "source": [
        "# Calculer des indices spectraux comme le NDVI\n",
        "ndvi_ts = np.where(nir_ts + red_ts == 0, 0, (nir_ts - red_ts) / (nir_ts + red_ts)).astype(np.float32)\n",
        "ndvi_ts.shape, ndvi_ts.dtype, ndvi_ts.min(), ndvi_ts.max()"
      ],
      "execution_count": null,
      "outputs": [
        {
          "output_type": "execute_result",
          "data": {
            "text/plain": [
              "((5412, 5592, 8), dtype('float32'), -0.9994976, 0.99976385)"
            ]
          },
          "metadata": {
            "tags": []
          },
          "execution_count": 12
        }
      ]
    },
    {
      "cell_type": "markdown",
      "metadata": {
        "id": "rOOWsKQHlHvS"
      },
      "source": [
        "#### **Normalisation en utilisant le min et le max des bandes sur les séries temporelles**"
      ]
    },
    {
      "cell_type": "code",
      "metadata": {
        "id": "IoOk5-UccvSe",
        "colab": {
          "base_uri": "https://localhost:8080/"
        },
        "outputId": "efc1f8aa-018a-473d-f78d-fd9333db3020"
      },
      "source": [
        "# Normalisation des séries temporelles par bande: Rouge\n",
        "red_ts_norm = ( red_ts - red_ts.min() ) / ( red_ts.max() - red_ts.min() ).astype(np.float32)\n",
        "red_ts_norm.min() , red_ts_norm.max(), red_ts_norm.shape, red_ts_norm.dtype"
      ],
      "execution_count": null,
      "outputs": [
        {
          "output_type": "execute_result",
          "data": {
            "text/plain": [
              "(0.0, 1.0, (5412, 5592, 8), dtype('float32'))"
            ]
          },
          "metadata": {
            "tags": []
          },
          "execution_count": 13
        }
      ]
    },
    {
      "cell_type": "code",
      "metadata": {
        "id": "-c1DlhJTe_6h",
        "colab": {
          "base_uri": "https://localhost:8080/"
        },
        "outputId": "fd31569a-f2a1-4693-a75b-9494f2313da4"
      },
      "source": [
        "# Normalisation des séries temporelles par bande: Vert\n",
        "green_ts_norm = ( green_ts - green_ts.min() ) / ( green_ts.max() - green_ts.min() ).astype(np.float32)\n",
        "green_ts = None\n",
        "green_ts_norm.min() , green_ts_norm.max(), green_ts_norm.shape, green_ts_norm.dtype"
      ],
      "execution_count": null,
      "outputs": [
        {
          "output_type": "execute_result",
          "data": {
            "text/plain": [
              "(0.0, 1.0, (5412, 5592, 8), dtype('float32'))"
            ]
          },
          "metadata": {
            "tags": []
          },
          "execution_count": 14
        }
      ]
    },
    {
      "cell_type": "code",
      "metadata": {
        "id": "hFNAbyIyfAJT",
        "colab": {
          "base_uri": "https://localhost:8080/"
        },
        "outputId": "7e247dca-e6b9-4f2f-8e02-8c08f57d1940"
      },
      "source": [
        "# Normalisation des séries temporelles par bande: Bleu\n",
        "blue_ts_norm = ( blue_ts - blue_ts.min() ) / ( blue_ts.max() - blue_ts.min() ).astype(np.float32)\n",
        "blue_ts = None\n",
        "blue_ts_norm.min() , blue_ts_norm.max(), blue_ts_norm.shape, blue_ts_norm.dtype"
      ],
      "execution_count": null,
      "outputs": [
        {
          "output_type": "execute_result",
          "data": {
            "text/plain": [
              "(0.0, 1.0, (5412, 5592, 8), dtype('float32'))"
            ]
          },
          "metadata": {
            "tags": []
          },
          "execution_count": 15
        }
      ]
    },
    {
      "cell_type": "code",
      "metadata": {
        "id": "epIhb6brfAUK",
        "colab": {
          "base_uri": "https://localhost:8080/"
        },
        "outputId": "39acca63-7ed7-4a68-ea7a-194d8a6acd5e"
      },
      "source": [
        "# Normalisation des séries temporelles par bande: Proche infrarouge\n",
        "nir_ts_norm = ( nir_ts - nir_ts.min() ) / ( nir_ts.max() - nir_ts.min() ).astype(np.float32)\n",
        "nir_ts_norm.min() , nir_ts_norm.max(), nir_ts_norm.shape, nir_ts_norm.dtype"
      ],
      "execution_count": null,
      "outputs": [
        {
          "output_type": "execute_result",
          "data": {
            "text/plain": [
              "(0.0, 1.0, (5412, 5592, 8), dtype('float32'))"
            ]
          },
          "metadata": {
            "tags": []
          },
          "execution_count": 16
        }
      ]
    },
    {
      "cell_type": "code",
      "metadata": {
        "id": "tAtrTnz_uQ2Y",
        "colab": {
          "base_uri": "https://localhost:8080/"
        },
        "outputId": "7d475bdf-6217-4703-c6cd-861f601a3c3c"
      },
      "source": [
        "# Normaliser les indices spectraux que vous aurez calculé\n",
        "ndvi_ts_norm = ( ndvi_ts - ndvi_ts.min() ) / ( ndvi_ts.max() - ndvi_ts.min( )).astype(np.float32)\n",
        "ndvi_ts_norm.min(), ndvi_ts_norm.max(), ndvi_ts_norm.shape, ndvi_ts_norm.dtype"
      ],
      "execution_count": null,
      "outputs": [
        {
          "output_type": "execute_result",
          "data": {
            "text/plain": [
              "(0.0, 1.0, (5412, 5592, 8), dtype('float32'))"
            ]
          },
          "metadata": {
            "tags": []
          },
          "execution_count": 17
        }
      ]
    },
    {
      "cell_type": "markdown",
      "metadata": {
        "id": "YDQUbh3Nkpn7"
      },
      "source": [
        "### **Lecture de la vérité terrain et récupération des positions des pixels du jeu d'entraînement et de test**"
      ]
    },
    {
      "cell_type": "markdown",
      "metadata": {
        "id": "V_mXEBEKmuw7"
      },
      "source": [
        "#### **Lecture des fichiers de la vérité terrain**"
      ]
    },
    {
      "cell_type": "code",
      "metadata": {
        "id": "NBCQhbMUoBJU",
        "colab": {
          "base_uri": "https://localhost:8080/"
        },
        "outputId": "b73412b0-d803-4ebf-fd0b-240e12c9a1b9"
      },
      "source": [
        "# Lire le fichier correspondant aux classes d'occupation du sol\n",
        "gt_class = tifffile.imread ('Verite_terrain/DORDOGNE_VT_CLASS.tif')\n",
        "gt_class.shape , gt_class.dtype"
      ],
      "execution_count": null,
      "outputs": [
        {
          "output_type": "execute_result",
          "data": {
            "text/plain": [
              "((5412, 5592), dtype('uint8'))"
            ]
          },
          "metadata": {
            "tags": []
          },
          "execution_count": 18
        }
      ]
    },
    {
      "cell_type": "code",
      "metadata": {
        "id": "JLnTil_psMLW",
        "colab": {
          "base_uri": "https://localhost:8080/"
        },
        "outputId": "c9e87fec-ea0a-465d-ad24-7428ab956acc"
      },
      "source": [
        "# Lire le fichier correspondant aux identifiants\n",
        "gt_id = tifffile.imread ('Verite_terrain/DORDOGNE_VT_ID.tif')\n",
        "gt_id.shape, gt_id.dtype"
      ],
      "execution_count": null,
      "outputs": [
        {
          "output_type": "execute_result",
          "data": {
            "text/plain": [
              "((5412, 5592), dtype('int16'))"
            ]
          },
          "metadata": {
            "tags": []
          },
          "execution_count": 19
        }
      ]
    },
    {
      "cell_type": "markdown",
      "metadata": {
        "id": "RjyGTdRpm5ii"
      },
      "source": [
        "#### **Récupération des positions des pixels d'entraînement et de test**"
      ]
    },
    {
      "cell_type": "code",
      "metadata": {
        "id": "yosWk1_BgiLE"
      },
      "source": [
        "# Récupérer les positions des échantillons d'entraînement et test\n",
        "idx_train_ = np.where ( (gt_id!=0) & (gt_class!=0) )\n",
        "idx_test = np.where ( (gt_id!=0) & (gt_class==0) )"
      ],
      "execution_count": null,
      "outputs": []
    },
    {
      "cell_type": "code",
      "metadata": {
        "id": "uRX0xj4zjvVY",
        "colab": {
          "base_uri": "https://localhost:8080/",
          "height": 34
        },
        "outputId": "d30f7f1d-6e73-41c5-80aa-a5350041a70f"
      },
      "source": [
        "# Lecture des identifiants et labels des échantillons d'entraînement\n",
        "train_id_ = gt_id[idx_train_]\n",
        "train_y_ = gt_class[idx_train_]\n",
        "f'échantillons d\\'entrainement: {train_y_.shape[0]} pixels, {len(np.unique(train_id_))} objets'"
      ],
      "execution_count": null,
      "outputs": [
        {
          "output_type": "execute_result",
          "data": {
            "application/vnd.google.colaboratory.intrinsic+json": {
              "type": "string"
            },
            "text/plain": [
              "\"échantillons d'entrainement: 605431 pixels, 1859 objets\""
            ]
          },
          "metadata": {
            "tags": []
          },
          "execution_count": 21
        }
      ]
    },
    {
      "cell_type": "code",
      "metadata": {
        "id": "kiPCaHQ2jtZu",
        "colab": {
          "base_uri": "https://localhost:8080/",
          "height": 34
        },
        "outputId": "f769e624-e54d-4579-f17c-bfcca294fe60"
      },
      "source": [
        "# Lecture des identifiants et labels des échantillons de test\n",
        "test_id = gt_id[idx_test]\n",
        "f'échantillons test: {test_id.shape[0]} pixels, {len(np.unique(test_id))} objets'"
      ],
      "execution_count": null,
      "outputs": [
        {
          "output_type": "execute_result",
          "data": {
            "application/vnd.google.colaboratory.intrinsic+json": {
              "type": "string"
            },
            "text/plain": [
              "'échantillons test: 207485 pixels, 800 objets'"
            ]
          },
          "metadata": {
            "tags": []
          },
          "execution_count": 22
        }
      ]
    },
    {
      "cell_type": "markdown",
      "metadata": {
        "id": "hNFyNkc5oc6z"
      },
      "source": [
        "### **Création d'un jeu de validation en prenant une partie du jeu d'entraînement**\n",
        "Pour cela, on s'assure de faire la division en mettant les pixels ayant le même identifiant dans un seul et même lot"
      ]
    },
    {
      "cell_type": "code",
      "metadata": {
        "id": "2hI-jAEqrac1",
        "colab": {
          "base_uri": "https://localhost:8080/",
          "height": 197
        },
        "outputId": "32e08116-8318-416e-94cc-d5b1659a3e69"
      },
      "source": [
        "# Dataframe pour créer un jeu de validation\n",
        "samples = pd.DataFrame({'ID':train_id_,'Class':train_y_})\n",
        "samples = samples.drop_duplicates(keep='first')\n",
        "samples.head(5)"
      ],
      "execution_count": null,
      "outputs": [
        {
          "output_type": "execute_result",
          "data": {
            "text/html": [
              "<div>\n",
              "<style scoped>\n",
              "    .dataframe tbody tr th:only-of-type {\n",
              "        vertical-align: middle;\n",
              "    }\n",
              "\n",
              "    .dataframe tbody tr th {\n",
              "        vertical-align: top;\n",
              "    }\n",
              "\n",
              "    .dataframe thead th {\n",
              "        text-align: right;\n",
              "    }\n",
              "</style>\n",
              "<table border=\"1\" class=\"dataframe\">\n",
              "  <thead>\n",
              "    <tr style=\"text-align: right;\">\n",
              "      <th></th>\n",
              "      <th>ID</th>\n",
              "      <th>Class</th>\n",
              "    </tr>\n",
              "  </thead>\n",
              "  <tbody>\n",
              "    <tr>\n",
              "      <th>0</th>\n",
              "      <td>422</td>\n",
              "      <td>2</td>\n",
              "    </tr>\n",
              "    <tr>\n",
              "      <th>4</th>\n",
              "      <td>2677</td>\n",
              "      <td>5</td>\n",
              "    </tr>\n",
              "    <tr>\n",
              "      <th>5</th>\n",
              "      <td>201</td>\n",
              "      <td>3</td>\n",
              "    </tr>\n",
              "    <tr>\n",
              "      <th>29</th>\n",
              "      <td>423</td>\n",
              "      <td>2</td>\n",
              "    </tr>\n",
              "    <tr>\n",
              "      <th>100</th>\n",
              "      <td>496</td>\n",
              "      <td>2</td>\n",
              "    </tr>\n",
              "  </tbody>\n",
              "</table>\n",
              "</div>"
            ],
            "text/plain": [
              "       ID  Class\n",
              "0     422      2\n",
              "4    2677      5\n",
              "5     201      3\n",
              "29    423      2\n",
              "100   496      2"
            ]
          },
          "metadata": {
            "tags": []
          },
          "execution_count": 23
        }
      ]
    },
    {
      "cell_type": "code",
      "metadata": {
        "id": "894SPjgRs_S7",
        "colab": {
          "base_uri": "https://localhost:8080/"
        },
        "outputId": "35ffbf45-50ae-4125-b8b0-5edfe8b66da1"
      },
      "source": [
        "# 30% des échantillons de chaque classe affecté au jeu de validation\n",
        "train_id = []\n",
        "valid_id = []\n",
        "for c in np.unique(samples.Class.values) :\n",
        "    samples_c = samples.loc[samples.Class==c]\n",
        "    samples_frac = samples_c.sample(frac=0.7,random_state=1234) \n",
        "    train_id.extend( samples_frac.ID.values )\n",
        "    valid_id.extend( samples_c.drop(samples_frac.index).ID.values )\n",
        "len(train_id),len(valid_id)"
      ],
      "execution_count": null,
      "outputs": [
        {
          "output_type": "execute_result",
          "data": {
            "text/plain": [
              "(1301, 558)"
            ]
          },
          "metadata": {
            "tags": []
          },
          "execution_count": 24
        }
      ]
    },
    {
      "cell_type": "markdown",
      "metadata": {
        "id": "6J609q3BrKRk"
      },
      "source": [
        "### **Récupération des positions des nouveaux échantillons d'entraînement et de validation**"
      ]
    },
    {
      "cell_type": "code",
      "metadata": {
        "id": "WmVBWpvFdjlk"
      },
      "source": [
        "# Récupérer les positions des nouveaux échantillons d'entraînement et validation\n",
        "idx_train = np.where ( np.isin(gt_id,train_id) )\n",
        "idx_valid = np.where ( np.isin(gt_id,valid_id) )"
      ],
      "execution_count": null,
      "outputs": []
    },
    {
      "cell_type": "markdown",
      "metadata": {
        "id": "3U6m2R-UwEFK"
      },
      "source": [
        "### **Lire finalement les labels correspondant aux nouveaux échantillons d'entraînement, de validation et test**"
      ]
    },
    {
      "cell_type": "code",
      "metadata": {
        "id": "vF_PEzn3vQzT",
        "colab": {
          "base_uri": "https://localhost:8080/"
        },
        "outputId": "cdf7c059-d1a1-4a9c-d43c-b5480f14c70b"
      },
      "source": [
        "train_y = gt_class[idx_train]\n",
        "valid_y = gt_class[idx_valid]\n",
        "test_y = gt_class[idx_test]\n",
        "train_y.shape, valid_y.shape, test_y.shape"
      ],
      "execution_count": null,
      "outputs": [
        {
          "output_type": "execute_result",
          "data": {
            "text/plain": [
              "((451962,), (153469,), (207485,))"
            ]
          },
          "metadata": {
            "tags": []
          },
          "execution_count": 26
        }
      ]
    },
    {
      "cell_type": "markdown",
      "metadata": {
        "id": "lAt4KCeZR1Os"
      },
      "source": [
        "### **Lire finalement les identifiants correspondant aux nouveaux échantillons d'entraînement, de validation et test**"
      ]
    },
    {
      "cell_type": "code",
      "metadata": {
        "id": "m3SiC0eVRvtA",
        "colab": {
          "base_uri": "https://localhost:8080/"
        },
        "outputId": "c1f026f4-7ac3-4ad7-cce8-7fc9f788fdf8"
      },
      "source": [
        "# utile pour les aggrégations au niveau objet\n",
        "# train_id_array = gt_id[idx_train] # Pas vraiment nécessaire pour les échantillons d'entraînements\n",
        "valid_id_array = gt_id[idx_valid]\n",
        "test_id_array = gt_id[idx_test]\n",
        "#train_id_array.shape, \n",
        "valid_id_array.shape, test_id_array.shape"
      ],
      "execution_count": null,
      "outputs": [
        {
          "output_type": "execute_result",
          "data": {
            "text/plain": [
              "((153469,), (207485,))"
            ]
          },
          "metadata": {
            "tags": []
          },
          "execution_count": 27
        }
      ]
    },
    {
      "cell_type": "markdown",
      "metadata": {
        "id": "xa-8J5r9r3KI"
      },
      "source": [
        "### **Lire finalement les valeurs des séries temporelles correspondant aux nouveaux échantillons d'entraînement, de validation et test**"
      ]
    },
    {
      "cell_type": "markdown",
      "metadata": {
        "id": "oRTUKBQBwd1V"
      },
      "source": [
        "#### **Pour un CNN2D ou spatial avec exemple d'imagettes ou patchs de 5 sur 5 en largeur et hauteur** \n",
        "\n",
        "Des patchs de 9 sur 9 sur l'ensemble des échantillons sont un peu trop gourmands en RAM pour Google Colab"
      ]
    },
    {
      "cell_type": "code",
      "metadata": {
        "id": "rBZ2s4zGwc8C",
        "colab": {
          "base_uri": "https://localhost:8080/"
        },
        "outputId": "ce052898-4af0-4b6a-dfc8-add4ef20248f"
      },
      "source": [
        "# Un CNN 2D ou spatial requiert un tableau 3D du type (nombre d'échantillons, largeur, hauteur, nombre de features= (nombre de dates x nombre de bandes) )\n",
        "# Vous pouvez rajouter à la liste des bandes les indices spectraux normalisés que vous aurez calculé\n",
        "\n",
        "# Training\n",
        "# 1- précaution pour ne pas considérer les pixels dont on ne peut extraire des patchs car trop près du bord\n",
        "idx_col = idx_train[0]\n",
        "idx_row = idx_train[1]\n",
        "coords = np.column_stack((idx_col,idx_row))\n",
        "coords = coords[np.where( ( np.isin(coords[:,0],np.arange(2,blue_ts_norm.shape[0]-2,1)) ) & ( np.isin(coords[:,1],np.arange(2,blue_ts_norm.shape[1]-2,1)) ) ) ]\n",
        "# len(coords)\n",
        "# 2- créer un tableau avec les patchs\n",
        "train_X = []\n",
        "for coord in coords :\n",
        "  lst = []\n",
        "  for band in [blue_ts_norm,green_ts_norm,red_ts_norm,nir_ts_norm]:\n",
        "    lst.append( band[coord[0]-2:coord[0]+3,coord[1]-2:coord[1]+3] )\n",
        "  train_X.append(np.stack(lst,axis=-1))\n",
        "train_X = np.stack(train_X,axis=0)\n",
        "train_X.shape"
      ],
      "execution_count": null,
      "outputs": [
        {
          "output_type": "execute_result",
          "data": {
            "text/plain": [
              "(451962, 5, 5, 8, 4)"
            ]
          },
          "metadata": {
            "tags": []
          },
          "execution_count": 28
        }
      ]
    },
    {
      "cell_type": "code",
      "metadata": {
        "id": "RhLlxu5j0O72",
        "colab": {
          "base_uri": "https://localhost:8080/"
        },
        "outputId": "d6a037a3-c599-4841-bac4-ecf8acfc62ff"
      },
      "source": [
        "# Validation\n",
        "# 1- précaution pour ne pas considérer les pixels dont on ne peut extraire des patchs car trop près du bord\n",
        "idx_col = idx_valid[0]\n",
        "idx_row = idx_valid[1]\n",
        "coords = np.column_stack((idx_col,idx_row))\n",
        "coords = coords[np.where( ( np.isin(coords[:,0],np.arange(2,blue_ts_norm.shape[0]-2,1)) ) & ( np.isin(coords[:,1],np.arange(2,blue_ts_norm.shape[1]-2,1)) ) ) ]\n",
        "# len(coords)\n",
        "# 2- créer un tableau avec les patchs\n",
        "valid_X = []\n",
        "for coord in coords :\n",
        "  lst = []\n",
        "  for band in [blue_ts_norm,green_ts_norm,red_ts_norm,nir_ts_norm]:\n",
        "    lst.append( band[coord[0]-2:coord[0]+3,coord[1]-2:coord[1]+3] )\n",
        "  valid_X.append(np.stack(lst,axis=-1))\n",
        "valid_X = np.stack(valid_X,axis=0)\n",
        "valid_X.shape"
      ],
      "execution_count": null,
      "outputs": [
        {
          "output_type": "execute_result",
          "data": {
            "text/plain": [
              "(153469, 5, 5, 8, 4)"
            ]
          },
          "metadata": {
            "tags": []
          },
          "execution_count": 29
        }
      ]
    },
    {
      "cell_type": "code",
      "metadata": {
        "id": "0VR_nM9W0QkB",
        "colab": {
          "base_uri": "https://localhost:8080/"
        },
        "outputId": "948f2d04-874b-4861-a171-613ec1edb6c9"
      },
      "source": [
        "# Test\n",
        "# 1- précaution pour ne pas considérer les pixels dont on ne peut extraire des patchs car trop près du bord\n",
        "idx_col = idx_test[0]\n",
        "idx_row = idx_test[1]\n",
        "coords = np.column_stack((idx_col,idx_row))\n",
        "coords = coords[np.where( ( np.isin(coords[:,0],np.arange(2,blue_ts_norm.shape[0]-2,1)) ) & ( np.isin(coords[:,1],np.arange(2,blue_ts_norm.shape[1]-2,1)) ) ) ]\n",
        "# len(coords)\n",
        "# 2- créer un tableau avec les patchs\n",
        "test_X = []\n",
        "for coord in coords :\n",
        "  lst = []\n",
        "  for band in [blue_ts_norm,green_ts_norm,red_ts_norm,nir_ts_norm]:\n",
        "    lst.append( band[coord[0]-2:coord[0]+3,coord[1]-2:coord[1]+3] )\n",
        "  test_X.append(np.stack(lst,axis=-1))\n",
        "test_X = np.stack(test_X,axis=0)\n",
        "test_X.shape"
      ],
      "execution_count": null,
      "outputs": [
        {
          "output_type": "execute_result",
          "data": {
            "text/plain": [
              "(207485, 5, 5, 8, 4)"
            ]
          },
          "metadata": {
            "tags": []
          },
          "execution_count": 30
        }
      ]
    },
    {
      "cell_type": "markdown",
      "metadata": {
        "id": "oiqM_sYRt5IL"
      },
      "source": [
        "### **Sauvegarde des données d'entraînement, de validation et test en fichier numpy**"
      ]
    },
    {
      "cell_type": "code",
      "metadata": {
        "id": "dPiv0fo3uJ8s"
      },
      "source": [
        "# Ainsi de cette façon vous pourrez continuer directement avec la création des modèles et en libérant la mémoire de tout ce qui a été fait précédemment\n",
        "Path('data').mkdir(exist_ok=True, parents=True)\n",
        "np.save('data/CNN3D/train_X.npy',train_X)\n",
        "np.save('data/CNN3D/train_y.npy',train_y)\n",
        "# np.save('data_graph_test/train_id.npy',train_id_array)\n",
        "\n",
        "np.save('data/CNN3D/valid_X.npy',valid_X)\n",
        "np.save('data/CNN3D/valid_y.npy',valid_y)\n",
        "np.save('data/CNN3D/valid_id.npy',valid_id_array)\n",
        "\n",
        "np.save('data/CNN3D/test_X.npy',test_X)\n",
        "np.save('data/CNN3D/test_id.npy',test_id_array)"
      ],
      "execution_count": null,
      "outputs": []
    },
    {
      "cell_type": "markdown",
      "metadata": {
        "id": "TOM6_mv--8IX"
      },
      "source": [
        "Videz la mémoire en redémarrant l'environnement d'exécution"
      ]
    },
    {
      "cell_type": "markdown",
      "metadata": {
        "id": "qv0jts6w6nxr"
      },
      "source": [
        "# **Votre modèle de deep learning**"
      ]
    },
    {
      "cell_type": "markdown",
      "metadata": {
        "id": "wmBRjg3QFrLe"
      },
      "source": [
        "### **Remontage de Drive et Importation de quelques librairies**"
      ]
    },
    {
      "cell_type": "code",
      "metadata": {
        "id": "rJUrD-aVMaN0",
        "colab": {
          "base_uri": "https://localhost:8080/"
        },
        "outputId": "ff7a70df-21fb-4621-b165-ac8c15918416"
      },
      "source": [
        "from google.colab import drive\n",
        "drive.mount('/content/drive')"
      ],
      "execution_count": null,
      "outputs": [
        {
          "output_type": "stream",
          "text": [
            "Mounted at /content/drive\n"
          ],
          "name": "stdout"
        }
      ]
    },
    {
      "cell_type": "code",
      "metadata": {
        "id": "_K5Xk6WeALcH"
      },
      "source": [
        "import os\n",
        "os.chdir('/content/drive/My Drive/Colab Notebooks')\n",
        "import numpy as np\n",
        "import pandas as pd\n",
        "import tifffile\n",
        "from pathlib import Path\n",
        "from sklearn.metrics import f1_score, confusion_matrix\n",
        "from sklearn.preprocessing import LabelEncoder\n",
        "import tensorflow as tf\n",
        "from tensorflow.keras.layers import Dense, Dropout, Activation, Flatten, Conv2D, Conv1D, GlobalAveragePooling1D, GlobalAveragePooling2D, BatchNormalization\n",
        "from tensorflow.keras.models import Sequential"
      ],
      "execution_count": null,
      "outputs": []
    },
    {
      "cell_type": "markdown",
      "metadata": {
        "id": "UlRFSn7f_yKx"
      },
      "source": [
        "### **Recharger les données d'entraînement, de validation et test en fichier numpy**"
      ]
    },
    {
      "cell_type": "code",
      "metadata": {
        "id": "CVzkEkQA-jM7",
        "colab": {
          "base_uri": "https://localhost:8080/"
        },
        "outputId": "7c2b9b60-1c13-4f70-96f7-378151ee21ea"
      },
      "source": [
        "# Recharger les données après avoir vidé la mémoire\n",
        "train_X = np.load('data/CNN3D/train_X.npy')\n",
        "train_y = np.load('data/CNN3D/train_y.npy')\n",
        "\n",
        "valid_X = np.load('data/CNN3D/valid_X.npy')\n",
        "valid_y = np.load('data/CNN3D/valid_y.npy')\n",
        "valid_id = np.load('data/CNN3D/valid_id.npy')\n",
        "\n",
        "test_X = np.load('data/CNN3D/test_X.npy')\n",
        "test_id = np.load('data/CNN3D/test_id.npy')\n",
        "train_X.shape, train_y.shape, valid_X.shape, valid_y.shape, valid_id.shape, test_X.shape, test_id.shape"
      ],
      "execution_count": null,
      "outputs": [
        {
          "output_type": "execute_result",
          "data": {
            "text/plain": [
              "((451962, 5, 5, 8, 4),\n",
              " (451962,),\n",
              " (153469, 5, 5, 8, 4),\n",
              " (153469,),\n",
              " (153469,),\n",
              " (207485, 5, 5, 8, 4),\n",
              " (207485,))"
            ]
          },
          "metadata": {
            "tags": []
          },
          "execution_count": 6
        }
      ]
    },
    {
      "cell_type": "markdown",
      "metadata": {
        "id": "K23T_c-EAj_z"
      },
      "source": [
        "### **Encoder les labels entre 0 et 4 de sorte à matcher les prédictions des réseaux de neurones**"
      ]
    },
    {
      "cell_type": "code",
      "metadata": {
        "id": "FY74aok1Arfi",
        "colab": {
          "base_uri": "https://localhost:8080/"
        },
        "outputId": "8ee7e74c-6324-484e-f8a0-598864b50c47"
      },
      "source": [
        "encoder = LabelEncoder()\n",
        "encoder.fit(train_y)\n",
        "train_y_enc = encoder.transform(train_y)\n",
        "valid_y_enc = encoder.transform(valid_y)\n",
        "np.unique(train_y), np.unique(train_y_enc), np.unique(valid_y), np.unique(valid_y_enc)"
      ],
      "execution_count": null,
      "outputs": [
        {
          "output_type": "execute_result",
          "data": {
            "text/plain": [
              "(array([1, 2, 3, 4, 5], dtype=uint8),\n",
              " array([0, 1, 2, 3, 4]),\n",
              " array([1, 2, 3, 4, 5], dtype=uint8),\n",
              " array([0, 1, 2, 3, 4]))"
            ]
          },
          "metadata": {
            "tags": []
          },
          "execution_count": 7
        }
      ]
    },
    {
      "cell_type": "markdown",
      "metadata": {
        "id": "GpH3oJPVE3uE"
      },
      "source": [
        "### **Définition séquentielle de votre modèle avec Keras**\n",
        "\n",
        "N'oubliez pas de spécifier l'input shape qui varie en fonction des types d'architectures, le nombre de neurones de la couche de sortie qui équivaut au nombre de classes que vous avez et de l'activer avec une fonction Softmax"
      ]
    },
    {
      "cell_type": "code",
      "metadata": {
        "id": "cvUdNqlKAu0X"
      },
      "source": [
        "import keras\n",
        "from keras.models import Sequential\n",
        "from keras.layers import Dense, Flatten, Conv3D, MaxPooling3D,Dropout\n",
        "from keras.utils import to_categorical\n",
        "import h5py\n",
        "import numpy as np\n",
        "import matplotlib.pyplot as plt\n",
        "\n",
        "\n",
        "model = Sequential()\n",
        "model.add(Conv3D(32, kernel_size=(3, 3, 2), activation='relu', input_shape=(5,5,8,4)))\n",
        "model.add(MaxPooling3D(pool_size=(2, 2, 1)))\n",
        "model.add(Conv3D(64, kernel_size=(1, 1, 2), activation='relu'))\n",
        "model.add(Dropout(0.3))\n",
        "model.add(Flatten())\n",
        "model.add(Dense(256, activation='relu'))\n",
        "model.add(Dropout(0.3))\n",
        "model.add(Dense(5, activation='softmax'))"
      ],
      "execution_count": null,
      "outputs": []
    },
    {
      "cell_type": "code",
      "metadata": {
        "id": "jhhSzQvSFALk",
        "colab": {
          "base_uri": "https://localhost:8080/"
        },
        "outputId": "3b24854a-3a00-44be-abd1-bc14d6a33f0c"
      },
      "source": [
        "# Afficher votre modèle\n",
        "model.summary()"
      ],
      "execution_count": null,
      "outputs": [
        {
          "output_type": "stream",
          "text": [
            "Model: \"sequential_1\"\n",
            "_________________________________________________________________\n",
            "Layer (type)                 Output Shape              Param #   \n",
            "=================================================================\n",
            "conv3d_2 (Conv3D)            (None, 3, 3, 7, 32)       2336      \n",
            "_________________________________________________________________\n",
            "max_pooling3d_1 (MaxPooling3 (None, 1, 1, 7, 32)       0         \n",
            "_________________________________________________________________\n",
            "conv3d_3 (Conv3D)            (None, 1, 1, 6, 64)       4160      \n",
            "_________________________________________________________________\n",
            "dropout_2 (Dropout)          (None, 1, 1, 6, 64)       0         \n",
            "_________________________________________________________________\n",
            "flatten_1 (Flatten)          (None, 384)               0         \n",
            "_________________________________________________________________\n",
            "dense_2 (Dense)              (None, 256)               98560     \n",
            "_________________________________________________________________\n",
            "dropout_3 (Dropout)          (None, 256)               0         \n",
            "_________________________________________________________________\n",
            "dense_3 (Dense)              (None, 5)                 1285      \n",
            "=================================================================\n",
            "Total params: 106,341\n",
            "Trainable params: 106,341\n",
            "Non-trainable params: 0\n",
            "_________________________________________________________________\n"
          ],
          "name": "stdout"
        }
      ]
    },
    {
      "cell_type": "markdown",
      "metadata": {
        "id": "f2ksSpJGF1gP"
      },
      "source": [
        "### **Compiler votre modèle en définissant une fonction de côut, un optmiseur et une métrique**\n",
        "\n",
        "Dans le cas d'une classification multi-classe, votre fonction de coût est la cross entropy catégorique. $Adam$ est un bon optimiseur de départ pour vos projets. Ici vous pouvez surveiller la métrique $Accuracy$. Pour la fonction de coût (loss), je n'utilse pas l'argument $from\\_logits=True$ car j'ai déjà activé la couche de sortie avec une fonction Softmax"
      ]
    },
    {
      "cell_type": "code",
      "metadata": {
        "id": "qtwtaGndG7UN"
      },
      "source": [
        "model.compile(optimizer=keras.optimizers.Adam(lr=0.0001),loss=tf.keras.losses.SparseCategoricalCrossentropy(), metrics=['acc'])"
      ],
      "execution_count": null,
      "outputs": []
    },
    {
      "cell_type": "markdown",
      "metadata": {
        "id": "aLKCHopeIIet"
      },
      "source": [
        "### **Définir un callback pour sauver les poids de votre modèle sur les meilleures époque c'est à dire les moments où il s'améliorera sur le jeu de validation**"
      ]
    },
    {
      "cell_type": "code",
      "metadata": {
        "id": "X-_N87DhIH5N"
      },
      "source": [
        "Path('my_model_test_3d').mkdir(exist_ok=True, parents=True)\n",
        "checkpointpath = os.path.join('my_model_test_3d/CNN2D/TEST8','model') # chemin où sauver le modèle\n",
        "callbacks = [tf.keras.callbacks.ModelCheckpoint(\n",
        "              checkpointpath,\n",
        "              verbose=1, # niveau de log\n",
        "              monitor='val_acc', # nom de la métrique à surveiller\n",
        "              save_best_only=True, # sauver uniquement le meilleur modèle\n",
        "              save_weights_only=True)] # sauver uniquement les poids"
      ],
      "execution_count": null,
      "outputs": []
    },
    {
      "cell_type": "code",
      "metadata": {
        "id": "8WpxHz3FJuJ6",
        "colab": {
          "base_uri": "https://localhost:8080/"
        },
        "outputId": "cc7797d4-44c5-41c6-ac6a-7013bb03082b"
      },
      "source": [
        "BATCH_SIZE = 256\n",
        "EPOCHS = 50\n",
        "history = model.fit (train_X, train_y_enc, validation_data=(valid_X,valid_y_enc), batch_size=BATCH_SIZE, epochs=EPOCHS, callbacks=callbacks,verbose=1)"
      ],
      "execution_count": null,
      "outputs": [
        {
          "output_type": "stream",
          "text": [
            "Epoch 1/50\n",
            "1765/1766 [============================>.] - ETA: 0s - loss: 0.5919 - acc: 0.8010\n",
            "Epoch 00001: val_acc improved from -inf to 0.82746, saving model to my_model_test_3d/CNN2D/TEST8/model\n",
            "1766/1766 [==============================] - 7s 4ms/step - loss: 0.5918 - acc: 0.8011 - val_loss: 0.4492 - val_acc: 0.8275\n",
            "Epoch 2/50\n",
            "1764/1766 [============================>.] - ETA: 0s - loss: 0.4085 - acc: 0.8635\n",
            "Epoch 00002: val_acc improved from 0.82746 to 0.84699, saving model to my_model_test_3d/CNN2D/TEST8/model\n",
            "1766/1766 [==============================] - 6s 4ms/step - loss: 0.4085 - acc: 0.8635 - val_loss: 0.3790 - val_acc: 0.8470\n",
            "Epoch 3/50\n",
            "1764/1766 [============================>.] - ETA: 0s - loss: 0.3664 - acc: 0.8757\n",
            "Epoch 00003: val_acc improved from 0.84699 to 0.85845, saving model to my_model_test_3d/CNN2D/TEST8/model\n",
            "1766/1766 [==============================] - 7s 4ms/step - loss: 0.3664 - acc: 0.8757 - val_loss: 0.3431 - val_acc: 0.8584\n",
            "Epoch 4/50\n",
            "1750/1766 [============================>.] - ETA: 0s - loss: 0.3379 - acc: 0.8839\n",
            "Epoch 00004: val_acc improved from 0.85845 to 0.86910, saving model to my_model_test_3d/CNN2D/TEST8/model\n",
            "1766/1766 [==============================] - 7s 4ms/step - loss: 0.3378 - acc: 0.8840 - val_loss: 0.3199 - val_acc: 0.8691\n",
            "Epoch 5/50\n",
            "1758/1766 [============================>.] - ETA: 0s - loss: 0.3134 - acc: 0.8915\n",
            "Epoch 00005: val_acc improved from 0.86910 to 0.88046, saving model to my_model_test_3d/CNN2D/TEST8/model\n",
            "1766/1766 [==============================] - 7s 4ms/step - loss: 0.3134 - acc: 0.8915 - val_loss: 0.2963 - val_acc: 0.8805\n",
            "Epoch 6/50\n",
            "1761/1766 [============================>.] - ETA: 0s - loss: 0.2941 - acc: 0.8976\n",
            "Epoch 00006: val_acc improved from 0.88046 to 0.88801, saving model to my_model_test_3d/CNN2D/TEST8/model\n",
            "1766/1766 [==============================] - 6s 4ms/step - loss: 0.2942 - acc: 0.8976 - val_loss: 0.2819 - val_acc: 0.8880\n",
            "Epoch 7/50\n",
            "1762/1766 [============================>.] - ETA: 0s - loss: 0.2785 - acc: 0.9027\n",
            "Epoch 00007: val_acc improved from 0.88801 to 0.89266, saving model to my_model_test_3d/CNN2D/TEST8/model\n",
            "1766/1766 [==============================] - 6s 4ms/step - loss: 0.2785 - acc: 0.9027 - val_loss: 0.2763 - val_acc: 0.8927\n",
            "Epoch 8/50\n",
            "1753/1766 [============================>.] - ETA: 0s - loss: 0.2668 - acc: 0.9066\n",
            "Epoch 00008: val_acc did not improve from 0.89266\n",
            "1766/1766 [==============================] - 6s 4ms/step - loss: 0.2668 - acc: 0.9066 - val_loss: 0.2805 - val_acc: 0.8923\n",
            "Epoch 9/50\n",
            "1756/1766 [============================>.] - ETA: 0s - loss: 0.2564 - acc: 0.9095\n",
            "Epoch 00009: val_acc improved from 0.89266 to 0.89850, saving model to my_model_test_3d/CNN2D/TEST8/model\n",
            "1766/1766 [==============================] - 6s 4ms/step - loss: 0.2564 - acc: 0.9095 - val_loss: 0.2648 - val_acc: 0.8985\n",
            "Epoch 10/50\n",
            "1753/1766 [============================>.] - ETA: 0s - loss: 0.2478 - acc: 0.9126\n",
            "Epoch 00010: val_acc improved from 0.89850 to 0.91020, saving model to my_model_test_3d/CNN2D/TEST8/model\n",
            "1766/1766 [==============================] - 6s 4ms/step - loss: 0.2479 - acc: 0.9125 - val_loss: 0.2400 - val_acc: 0.9102\n",
            "Epoch 11/50\n",
            "1761/1766 [============================>.] - ETA: 0s - loss: 0.2403 - acc: 0.9147\n",
            "Epoch 00011: val_acc did not improve from 0.91020\n",
            "1766/1766 [==============================] - 7s 4ms/step - loss: 0.2403 - acc: 0.9146 - val_loss: 0.2418 - val_acc: 0.9096\n",
            "Epoch 12/50\n",
            "1751/1766 [============================>.] - ETA: 0s - loss: 0.2326 - acc: 0.9172\n",
            "Epoch 00012: val_acc improved from 0.91020 to 0.91069, saving model to my_model_test_3d/CNN2D/TEST8/model\n",
            "1766/1766 [==============================] - 7s 4ms/step - loss: 0.2326 - acc: 0.9172 - val_loss: 0.2412 - val_acc: 0.9107\n",
            "Epoch 13/50\n",
            "1766/1766 [==============================] - ETA: 0s - loss: 0.2266 - acc: 0.9193\n",
            "Epoch 00013: val_acc did not improve from 0.91069\n",
            "1766/1766 [==============================] - 6s 4ms/step - loss: 0.2266 - acc: 0.9193 - val_loss: 0.2511 - val_acc: 0.9071\n",
            "Epoch 14/50\n",
            "1750/1766 [============================>.] - ETA: 0s - loss: 0.2201 - acc: 0.9211\n",
            "Epoch 00014: val_acc did not improve from 0.91069\n",
            "1766/1766 [==============================] - 6s 4ms/step - loss: 0.2199 - acc: 0.9212 - val_loss: 0.2520 - val_acc: 0.9081\n",
            "Epoch 15/50\n",
            "1766/1766 [==============================] - ETA: 0s - loss: 0.2148 - acc: 0.9223\n",
            "Epoch 00015: val_acc improved from 0.91069 to 0.91575, saving model to my_model_test_3d/CNN2D/TEST8/model\n",
            "1766/1766 [==============================] - 6s 4ms/step - loss: 0.2148 - acc: 0.9223 - val_loss: 0.2306 - val_acc: 0.9157\n",
            "Epoch 16/50\n",
            "1763/1766 [============================>.] - ETA: 0s - loss: 0.2102 - acc: 0.9243\n",
            "Epoch 00016: val_acc did not improve from 0.91575\n",
            "1766/1766 [==============================] - 6s 4ms/step - loss: 0.2102 - acc: 0.9243 - val_loss: 0.2368 - val_acc: 0.9142\n",
            "Epoch 17/50\n",
            "1756/1766 [============================>.] - ETA: 0s - loss: 0.2046 - acc: 0.9263\n",
            "Epoch 00017: val_acc improved from 0.91575 to 0.91661, saving model to my_model_test_3d/CNN2D/TEST8/model\n",
            "1766/1766 [==============================] - 6s 4ms/step - loss: 0.2046 - acc: 0.9263 - val_loss: 0.2287 - val_acc: 0.9166\n",
            "Epoch 18/50\n",
            "1759/1766 [============================>.] - ETA: 0s - loss: 0.2007 - acc: 0.9274\n",
            "Epoch 00018: val_acc did not improve from 0.91661\n",
            "1766/1766 [==============================] - 6s 4ms/step - loss: 0.2006 - acc: 0.9274 - val_loss: 0.2318 - val_acc: 0.9160\n",
            "Epoch 19/50\n",
            "1759/1766 [============================>.] - ETA: 0s - loss: 0.1963 - acc: 0.9288\n",
            "Epoch 00019: val_acc did not improve from 0.91661\n",
            "1766/1766 [==============================] - 6s 4ms/step - loss: 0.1963 - acc: 0.9288 - val_loss: 0.2372 - val_acc: 0.9153\n",
            "Epoch 20/50\n",
            "1751/1766 [============================>.] - ETA: 0s - loss: 0.1930 - acc: 0.9302\n",
            "Epoch 00020: val_acc improved from 0.91661 to 0.91700, saving model to my_model_test_3d/CNN2D/TEST8/model\n",
            "1766/1766 [==============================] - 7s 4ms/step - loss: 0.1930 - acc: 0.9303 - val_loss: 0.2277 - val_acc: 0.9170\n",
            "Epoch 21/50\n",
            "1750/1766 [============================>.] - ETA: 0s - loss: 0.1892 - acc: 0.9313\n",
            "Epoch 00021: val_acc improved from 0.91700 to 0.91815, saving model to my_model_test_3d/CNN2D/TEST8/model\n",
            "1766/1766 [==============================] - 6s 4ms/step - loss: 0.1891 - acc: 0.9313 - val_loss: 0.2289 - val_acc: 0.9181\n",
            "Epoch 22/50\n",
            "1756/1766 [============================>.] - ETA: 0s - loss: 0.1861 - acc: 0.9326\n",
            "Epoch 00022: val_acc did not improve from 0.91815\n",
            "1766/1766 [==============================] - 6s 4ms/step - loss: 0.1860 - acc: 0.9327 - val_loss: 0.2313 - val_acc: 0.9171\n",
            "Epoch 23/50\n",
            "1751/1766 [============================>.] - ETA: 0s - loss: 0.1824 - acc: 0.9340\n",
            "Epoch 00023: val_acc did not improve from 0.91815\n",
            "1766/1766 [==============================] - 6s 4ms/step - loss: 0.1823 - acc: 0.9340 - val_loss: 0.2280 - val_acc: 0.9180\n",
            "Epoch 24/50\n",
            "1759/1766 [============================>.] - ETA: 0s - loss: 0.1794 - acc: 0.9350\n",
            "Epoch 00024: val_acc did not improve from 0.91815\n",
            "1766/1766 [==============================] - 7s 4ms/step - loss: 0.1795 - acc: 0.9350 - val_loss: 0.2253 - val_acc: 0.9175\n",
            "Epoch 25/50\n",
            "1762/1766 [============================>.] - ETA: 0s - loss: 0.1764 - acc: 0.9360\n",
            "Epoch 00025: val_acc did not improve from 0.91815\n",
            "1766/1766 [==============================] - 6s 4ms/step - loss: 0.1764 - acc: 0.9360 - val_loss: 0.2354 - val_acc: 0.9152\n",
            "Epoch 26/50\n",
            "1761/1766 [============================>.] - ETA: 0s - loss: 0.1736 - acc: 0.9370\n",
            "Epoch 00026: val_acc did not improve from 0.91815\n",
            "1766/1766 [==============================] - 6s 4ms/step - loss: 0.1736 - acc: 0.9370 - val_loss: 0.2319 - val_acc: 0.9174\n",
            "Epoch 27/50\n",
            "1750/1766 [============================>.] - ETA: 0s - loss: 0.1702 - acc: 0.9384\n",
            "Epoch 00027: val_acc did not improve from 0.91815\n",
            "1766/1766 [==============================] - 6s 4ms/step - loss: 0.1702 - acc: 0.9383 - val_loss: 0.2433 - val_acc: 0.9145\n",
            "Epoch 28/50\n",
            "1755/1766 [============================>.] - ETA: 0s - loss: 0.1674 - acc: 0.9395\n",
            "Epoch 00028: val_acc did not improve from 0.91815\n",
            "1766/1766 [==============================] - 6s 4ms/step - loss: 0.1674 - acc: 0.9395 - val_loss: 0.2358 - val_acc: 0.9163\n",
            "Epoch 29/50\n",
            "1766/1766 [==============================] - ETA: 0s - loss: 0.1645 - acc: 0.9403\n",
            "Epoch 00029: val_acc improved from 0.91815 to 0.91850, saving model to my_model_test_3d/CNN2D/TEST8/model\n",
            "1766/1766 [==============================] - 6s 4ms/step - loss: 0.1645 - acc: 0.9403 - val_loss: 0.2312 - val_acc: 0.9185\n",
            "Epoch 30/50\n",
            "1754/1766 [============================>.] - ETA: 0s - loss: 0.1620 - acc: 0.9414\n",
            "Epoch 00030: val_acc improved from 0.91850 to 0.91873, saving model to my_model_test_3d/CNN2D/TEST8/model\n",
            "1766/1766 [==============================] - 6s 4ms/step - loss: 0.1620 - acc: 0.9414 - val_loss: 0.2244 - val_acc: 0.9187\n",
            "Epoch 31/50\n",
            "1750/1766 [============================>.] - ETA: 0s - loss: 0.1599 - acc: 0.9419\n",
            "Epoch 00031: val_acc did not improve from 0.91873\n",
            "1766/1766 [==============================] - 6s 4ms/step - loss: 0.1598 - acc: 0.9419 - val_loss: 0.2328 - val_acc: 0.9185\n",
            "Epoch 32/50\n",
            "1756/1766 [============================>.] - ETA: 0s - loss: 0.1578 - acc: 0.9431\n",
            "Epoch 00032: val_acc did not improve from 0.91873\n",
            "1766/1766 [==============================] - 6s 4ms/step - loss: 0.1578 - acc: 0.9431 - val_loss: 0.2340 - val_acc: 0.9175\n",
            "Epoch 33/50\n",
            "1755/1766 [============================>.] - ETA: 0s - loss: 0.1552 - acc: 0.9438\n",
            "Epoch 00033: val_acc did not improve from 0.91873\n",
            "1766/1766 [==============================] - 6s 4ms/step - loss: 0.1551 - acc: 0.9439 - val_loss: 0.2389 - val_acc: 0.9164\n",
            "Epoch 34/50\n",
            "1757/1766 [============================>.] - ETA: 0s - loss: 0.1531 - acc: 0.9447\n",
            "Epoch 00034: val_acc did not improve from 0.91873\n",
            "1766/1766 [==============================] - 6s 4ms/step - loss: 0.1531 - acc: 0.9447 - val_loss: 0.2352 - val_acc: 0.9170\n",
            "Epoch 35/50\n",
            "1754/1766 [============================>.] - ETA: 0s - loss: 0.1515 - acc: 0.9453\n",
            "Epoch 00035: val_acc did not improve from 0.91873\n",
            "1766/1766 [==============================] - 6s 4ms/step - loss: 0.1515 - acc: 0.9453 - val_loss: 0.2357 - val_acc: 0.9177\n",
            "Epoch 36/50\n",
            "1756/1766 [============================>.] - ETA: 0s - loss: 0.1484 - acc: 0.9463\n",
            "Epoch 00036: val_acc did not improve from 0.91873\n",
            "1766/1766 [==============================] - 6s 4ms/step - loss: 0.1484 - acc: 0.9463 - val_loss: 0.2318 - val_acc: 0.9182\n",
            "Epoch 37/50\n",
            "1752/1766 [============================>.] - ETA: 0s - loss: 0.1463 - acc: 0.9471\n",
            "Epoch 00037: val_acc did not improve from 0.91873\n",
            "1766/1766 [==============================] - 7s 4ms/step - loss: 0.1463 - acc: 0.9471 - val_loss: 0.2376 - val_acc: 0.9162\n",
            "Epoch 38/50\n",
            "1752/1766 [============================>.] - ETA: 0s - loss: 0.1444 - acc: 0.9477\n",
            "Epoch 00038: val_acc did not improve from 0.91873\n",
            "1766/1766 [==============================] - 6s 4ms/step - loss: 0.1445 - acc: 0.9477 - val_loss: 0.2373 - val_acc: 0.9174\n",
            "Epoch 39/50\n",
            "1765/1766 [============================>.] - ETA: 0s - loss: 0.1427 - acc: 0.9481\n",
            "Epoch 00039: val_acc did not improve from 0.91873\n",
            "1766/1766 [==============================] - 6s 4ms/step - loss: 0.1427 - acc: 0.9481 - val_loss: 0.2370 - val_acc: 0.9180\n",
            "Epoch 40/50\n",
            "1752/1766 [============================>.] - ETA: 0s - loss: 0.1403 - acc: 0.9492\n",
            "Epoch 00040: val_acc did not improve from 0.91873\n",
            "1766/1766 [==============================] - 6s 4ms/step - loss: 0.1402 - acc: 0.9493 - val_loss: 0.2430 - val_acc: 0.9166\n",
            "Epoch 41/50\n",
            "1765/1766 [============================>.] - ETA: 0s - loss: 0.1389 - acc: 0.9498\n",
            "Epoch 00041: val_acc did not improve from 0.91873\n",
            "1766/1766 [==============================] - 6s 4ms/step - loss: 0.1389 - acc: 0.9498 - val_loss: 0.2371 - val_acc: 0.9176\n",
            "Epoch 42/50\n",
            "1761/1766 [============================>.] - ETA: 0s - loss: 0.1368 - acc: 0.9507\n",
            "Epoch 00042: val_acc did not improve from 0.91873\n",
            "1766/1766 [==============================] - 6s 4ms/step - loss: 0.1368 - acc: 0.9507 - val_loss: 0.2487 - val_acc: 0.9149\n",
            "Epoch 43/50\n",
            "1755/1766 [============================>.] - ETA: 0s - loss: 0.1347 - acc: 0.9512\n",
            "Epoch 00043: val_acc did not improve from 0.91873\n",
            "1766/1766 [==============================] - 6s 4ms/step - loss: 0.1348 - acc: 0.9512 - val_loss: 0.2397 - val_acc: 0.9154\n",
            "Epoch 44/50\n",
            "1765/1766 [============================>.] - ETA: 0s - loss: 0.1333 - acc: 0.9516\n",
            "Epoch 00044: val_acc did not improve from 0.91873\n",
            "1766/1766 [==============================] - 6s 4ms/step - loss: 0.1333 - acc: 0.9516 - val_loss: 0.2432 - val_acc: 0.9145\n",
            "Epoch 45/50\n",
            "1763/1766 [============================>.] - ETA: 0s - loss: 0.1315 - acc: 0.9523\n",
            "Epoch 00045: val_acc did not improve from 0.91873\n",
            "1766/1766 [==============================] - 6s 4ms/step - loss: 0.1315 - acc: 0.9523 - val_loss: 0.2467 - val_acc: 0.9154\n",
            "Epoch 46/50\n",
            "1755/1766 [============================>.] - ETA: 0s - loss: 0.1303 - acc: 0.9528\n",
            "Epoch 00046: val_acc did not improve from 0.91873\n",
            "1766/1766 [==============================] - 6s 4ms/step - loss: 0.1303 - acc: 0.9528 - val_loss: 0.2462 - val_acc: 0.9160\n",
            "Epoch 47/50\n",
            "1759/1766 [============================>.] - ETA: 0s - loss: 0.1284 - acc: 0.9539\n",
            "Epoch 00047: val_acc did not improve from 0.91873\n",
            "1766/1766 [==============================] - 6s 4ms/step - loss: 0.1284 - acc: 0.9539 - val_loss: 0.2469 - val_acc: 0.9161\n",
            "Epoch 48/50\n",
            "1757/1766 [============================>.] - ETA: 0s - loss: 0.1265 - acc: 0.9542\n",
            "Epoch 00048: val_acc did not improve from 0.91873\n",
            "1766/1766 [==============================] - 6s 4ms/step - loss: 0.1265 - acc: 0.9542 - val_loss: 0.2423 - val_acc: 0.9142\n",
            "Epoch 49/50\n",
            "1760/1766 [============================>.] - ETA: 0s - loss: 0.1249 - acc: 0.9552\n",
            "Epoch 00049: val_acc did not improve from 0.91873\n",
            "1766/1766 [==============================] - 6s 4ms/step - loss: 0.1249 - acc: 0.9552 - val_loss: 0.2539 - val_acc: 0.9147\n",
            "Epoch 50/50\n",
            "1758/1766 [============================>.] - ETA: 0s - loss: 0.1234 - acc: 0.9557\n",
            "Epoch 00050: val_acc did not improve from 0.91873\n",
            "1766/1766 [==============================] - 6s 4ms/step - loss: 0.1235 - acc: 0.9557 - val_loss: 0.2450 - val_acc: 0.9142\n"
          ],
          "name": "stdout"
        }
      ]
    },
    {
      "cell_type": "markdown",
      "metadata": {
        "id": "ozHZJ2CZH72X"
      },
      "source": [
        "### **Entraîner votre modèle pour un certain nombre d'époques**\n",
        "\n",
        "Le paramètre $validation\\_data$ vous permet de spécifier des données de validation et de votre le comportement de votre modèle sur un jeu indépendant dont il n'a pas la connaissance. \n",
        "\n",
        "La taille de batch ($batch\\_size$) correspond au nombre d'échantillons sur lesquels le modèle est entraîné à la fois sur une époque. Vous pouvez le mettre à (ex. 32, 64, 128, 256) et plus il est grand ce qui requiert d'avoir de la mémoire plus le temps d'exécution d'une époque sera court\n",
        "\n",
        "J'utilise les labels encodés entre 0 et 4 car la prédiction sur les distributions de probabilités du modèle est retournée avec un argmax"
      ]
    },
    {
      "cell_type": "markdown",
      "metadata": {
        "id": "n8LxITTsM856"
      },
      "source": [
        "### **Restaurer les poids du modèle sur la meilleure époque d'entraînement**"
      ]
    },
    {
      "cell_type": "code",
      "metadata": {
        "id": "l1F4KMnnMz3d",
        "colab": {
          "base_uri": "https://localhost:8080/"
        },
        "outputId": "786cedba-f3b4-48ce-ae72-d5e35fbfcc62"
      },
      "source": [
        "model.load_weights(checkpointpath)\n",
        "# S'assurer que c'est bien le meilleur modèle sur les époques d'entraînement\n",
        "model.evaluate(valid_X,valid_y_enc,batch_size=256)"
      ],
      "execution_count": null,
      "outputs": [
        {
          "output_type": "stream",
          "text": [
            "600/600 [==============================] - 1s 2ms/step - loss: 0.2459 - acc: 0.9117\n"
          ],
          "name": "stdout"
        },
        {
          "output_type": "execute_result",
          "data": {
            "text/plain": [
              "[0.24585841596126556, 0.9116824865341187]"
            ]
          },
          "metadata": {
            "tags": []
          },
          "execution_count": 89
        }
      ]
    },
    {
      "cell_type": "markdown",
      "metadata": {
        "id": "Zh14_LtSPCqB"
      },
      "source": [
        "### **Prédiction des classes sur le jeu de validation et évaluation en aggrégeant au niveau objet**"
      ]
    },
    {
      "cell_type": "markdown",
      "metadata": {
        "id": "zIXYledyW9QI"
      },
      "source": [
        "### **Prédire sur le jeu test et Préparer une soumission**"
      ]
    },
    {
      "cell_type": "code",
      "metadata": {
        "id": "wiZ6utGf-W6S"
      },
      "source": [
        "def getF1Test():\r\n",
        "  test_prob = model.predict(test_X,batch_size=256)\r\n",
        "  test_pred = np.argmax(test_prob,axis=1)\r\n",
        "  test_pred_enc = encoder.inverse_transform(test_pred)\r\n",
        "  agg_pred = []\r\n",
        "  unique_id = np.unique(test_id)\r\n",
        "  for ID in unique_id :\r\n",
        "      # Récupérer les prédictions des pixels appartenant au même objet\r\n",
        "      pred = test_pred_enc[np.where(test_id==ID)]\r\n",
        "      # Prendre la valeur majoritaire des prédictions sur les pixels\r\n",
        "      agg_pred.append([ ID, np.bincount(pred).argmax()]) #(ID,Prédiction majoritaire)\r\n",
        "  agg_pred = np.vstack(agg_pred)\r\n",
        "  df = pd.DataFrame({'ID':agg_pred[:,0],'Class':agg_pred[:,1]})\r\n",
        "  df.to_csv('Soumission_CNN3D.csv',index=False)\r\n",
        "  df_test = pd.read_csv('Test_ID_Label.csv')\r\n",
        "  return f1_score(df_test.Class,df.Class,average='weighted')"
      ],
      "execution_count": null,
      "outputs": []
    },
    {
      "cell_type": "code",
      "metadata": {
        "id": "0yu_xQxJ-7SH"
      },
      "source": [
        "def getF1Val():\r\n",
        "  valid_prob = model.predict(valid_X,batch_size=256)\r\n",
        "  valid_pred = np.argmax(valid_prob,axis=1)\r\n",
        "  valid_pred_enc = encoder.inverse_transform(valid_pred)\r\n",
        "  out_pred = []\r\n",
        "  unique_id = np.unique(valid_id)\r\n",
        "  for ID in unique_id :\r\n",
        "      # Récupérer les prédictions des pixels appartenant au même objet\r\n",
        "      pred = valid_pred_enc[np.where(valid_id==ID)]\r\n",
        "      y_true = valid_y[np.where(valid_id==ID)]\r\n",
        "      # Prendre la valeur majoritaire des prédictions sur les pixels\r\n",
        "      out_pred.append([ np.bincount(y_true).argmax(), np.bincount(pred).argmax()]) #(Vérité terrain,Prédiction majoritaire)\r\n",
        "  out_pred = np.vstack(out_pred)\r\n",
        "  return f1_score(out_pred[:,0],out_pred[:,1],average='weighted')"
      ],
      "execution_count": null,
      "outputs": []
    },
    {
      "cell_type": "code",
      "metadata": {
        "colab": {
          "base_uri": "https://localhost:8080/"
        },
        "id": "GrbKogcz_YKM",
        "outputId": "be445a2a-a7cd-4d7e-cf22-195c4b106db5"
      },
      "source": [
        "print(f\"F1 SCORE VAL : {getF1Val()}\")\r\n",
        "print(f\"F1 SCORE TEST : {getF1Test()}\")"
      ],
      "execution_count": null,
      "outputs": [
        {
          "output_type": "stream",
          "text": [
            "F1 SCORE VAL : 0.8511907115638181\n",
            "F1 SCORE TEST : 0.836219844146737\n"
          ],
          "name": "stdout"
        }
      ]
    },
    {
      "cell_type": "code",
      "metadata": {
        "id": "iA7jZ6JeAtNL"
      },
      "source": [
        "df_test = pd.read_csv('Test_ID_Label.csv')\r\n",
        "test_y =  df_test.Class.to_numpy()"
      ],
      "execution_count": null,
      "outputs": []
    },
    {
      "cell_type": "code",
      "metadata": {
        "colab": {
          "base_uri": "https://localhost:8080/",
          "height": 877
        },
        "id": "qUIDAexh-C4i",
        "outputId": "8cf702b9-100f-4cf3-bd70-07791ce3a51d"
      },
      "source": [
        "printGraph()"
      ],
      "execution_count": null,
      "outputs": [
        {
          "output_type": "display_data",
          "data": {
            "image/png": "[encoded data removed]",
            "text/plain": [
              "<Figure size 1080x1080 with 1 Axes>"
            ]
          },
          "metadata": {
            "tags": [],
            "needs_background": "light"
          }
        }
      ]
    }
  ]
}